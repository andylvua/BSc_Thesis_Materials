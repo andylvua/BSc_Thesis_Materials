{
 "cells": [
  {
   "cell_type": "markdown",
   "id": "e104ee7b",
   "metadata": {},
   "source": [
    "### Prepare data"
   ]
  },
  {
   "cell_type": "code",
   "execution_count": null,
   "id": "a10c99bd",
   "metadata": {},
   "outputs": [
    {
     "name": "stderr",
     "output_type": "stream",
     "text": [
      "Seed set to 42\n"
     ]
    }
   ],
   "source": [
    "import pandas as pd\n",
    "import numpy as np\n",
    "import random\n",
    "\n",
    "import torch\n",
    "import torch.utils.data as data\n",
    "from torch.utils.data import DataLoader, random_split\n",
    "import pytorch_lightning as pl\n",
    "from pytorch_lightning.callbacks import EarlyStopping, LearningRateMonitor, ModelCheckpoint\n",
    "\n",
    "\n",
    "random.seed(42)\n",
    "np.random.seed(42)\n",
    "pl.seed_everything(42, workers=True)\n",
    "\n",
    "# Dataset must be downloaded first: https://doi.org/10.5281/zenodo.15226382\n",
    "uwb_data_nxp = pd.read_pickle('<dataset_path>/data.pkl')\n",
    "\n",
    "los = uwb_data_nxp[uwb_data_nxp['l'] == 1]\n",
    "nlos = uwb_data_nxp[uwb_data_nxp['l'] == 0]\n",
    "\n",
    "desired_nlos_percentage = 0.7\n",
    "los = los.sample(int((1 - desired_nlos_percentage) * len(nlos) / desired_nlos_percentage), random_state=42)\n",
    "\n",
    "uwb_data_nxp = pd.concat([los, nlos])\n",
    "\n",
    "uwb_data_nxp.head()\n",
    "\n",
    "fp_idx = 8\n",
    "\n",
    "prior_fp = 5\n",
    "after_fp = 128\n",
    "\n",
    "cir_data = uwb_data_nxp['CIR'].values\n",
    "\n",
    "cir_data = np.array([np.array([x.real, x.imag]).T for x in cir_data])\n",
    "cir_data = cir_data[:, fp_idx - prior_fp: fp_idx + after_fp]\n",
    "\n",
    "errors = uwb_data_nxp['e'].values\n",
    "labels = uwb_data_nxp['l'].values\n",
    "\n",
    "X = torch.tensor(cir_data, dtype=torch.float32)\n",
    "y = torch.tensor(errors, dtype=torch.float32)\n",
    "labels = torch.tensor(labels, dtype=torch.float32)\n",
    "\n",
    "class UWBDataModule(pl.LightningDataModule):\n",
    "    def __init__(self, X, y, labels, batch_size=200):\n",
    "        super().__init__()\n",
    "        self.X = X\n",
    "        self.y = y\n",
    "        self.labels = labels\n",
    "        self.batch_size = batch_size\n",
    "    \n",
    "    def setup(self, stage=None):\n",
    "        dataset = data.TensorDataset(self.X, self.y, self.labels)\n",
    "        train_size = int(0.7 * len(dataset))\n",
    "        val_size = int(0.2 * len(dataset))\n",
    "        test_size = len(dataset) - train_size - val_size\n",
    "        \n",
    "        generator = torch.Generator()\n",
    "        generator.manual_seed(42)\n",
    "\n",
    "        self.train_dataset, self.val_dataset, self.test_dataset = random_split(dataset, [train_size, val_size, test_size], generator=generator)\n",
    "    \n",
    "    def train_dataloader(self):\n",
    "        return DataLoader(self.train_dataset, batch_size=self.batch_size, shuffle=True, num_workers=24, pin_memory=True)\n",
    "    \n",
    "    def val_dataloader(self):\n",
    "        return DataLoader(self.val_dataset, batch_size=self.batch_size, num_workers=24, pin_memory=True)\n",
    "    \n",
    "    def test_dataloader(self):\n",
    "        return DataLoader(self.test_dataset, batch_size=self.batch_size, num_workers=24, pin_memory=True)"
   ]
  },
  {
   "cell_type": "markdown",
   "id": "c26f6580",
   "metadata": {},
   "source": [
    "### Train"
   ]
  },
  {
   "cell_type": "code",
   "execution_count": 21,
   "id": "f5412a6e",
   "metadata": {},
   "outputs": [],
   "source": [
    "from model import ARemNet"
   ]
  },
  {
   "cell_type": "code",
   "execution_count": 15,
   "id": "f66108fc",
   "metadata": {},
   "outputs": [
    {
     "name": "stderr",
     "output_type": "stream",
     "text": [
      "GPU available: True (cuda), used: True\n",
      "TPU available: False, using: 0 TPU cores\n",
      "HPU available: False, using: 0 HPUs\n"
     ]
    }
   ],
   "source": [
    "model = ARemNet(k=162, input_channels=2, low_level_features=64, num_rrms=5, num_heads=4, attention_unit=True, num_classes=1, lr=1e-3)\n",
    "\n",
    "data_module = UWBDataModule(X, y, labels, batch_size=256)\n",
    "\n",
    "checkpoint_callback = ModelCheckpoint(\n",
    "    monitor=\"val_loss\",\n",
    "    mode=\"min\",\n",
    "    save_top_k=1,\n",
    "    filename=\"best_model\",\n",
    "    verbose=True\n",
    ")\n",
    "\n",
    "trainer = pl.Trainer(\n",
    "    max_epochs=100, \n",
    "    callbacks=[\n",
    "        EarlyStopping(monitor=\"val_loss\", patience=5, mode=\"min\"),\n",
    "        LearningRateMonitor(logging_interval='epoch'),\n",
    "        checkpoint_callback\n",
    "    ],\n",
    "    accelerator=\"gpu\" if torch.cuda.is_available() else \"cpu\", \n",
    "    devices=3,\n",
    ")\n",
    "\n",
    "# trainer.fit(model, data_module)"
   ]
  },
  {
   "cell_type": "markdown",
   "id": "64c10f14",
   "metadata": {},
   "source": [
    "#### Load pre-trained models"
   ]
  },
  {
   "cell_type": "code",
   "execution_count": 8,
   "id": "45eeb76c",
   "metadata": {},
   "outputs": [
    {
     "name": "stdout",
     "output_type": "stream",
     "text": [
      "ARemNet(\n",
      "  (conv1d): Conv1d(2, 64, kernel_size=(9,), stride=(1,), padding=(4,))\n",
      "  (rrms): ModuleList(\n",
      "    (0-4): 5 x ResidualReductionModule(\n",
      "      (residual_unit): ResidualUnit(\n",
      "        (conv): Conv1d(64, 64, kernel_size=(3,), stride=(1,), padding=(1,))\n",
      "        (se_block): SEBlock(\n",
      "          (squeeze): AdaptiveAvgPool1d(output_size=1)\n",
      "          (fc1): Linear(in_features=64, out_features=8, bias=True)\n",
      "          (fc2): Linear(in_features=8, out_features=64, bias=True)\n",
      "        )\n",
      "      )\n",
      "      (reduction_block): ReductionBlock(\n",
      "        (conv1): Conv1d(64, 64, kernel_size=(3,), stride=(2,), padding=(1,))\n",
      "        (conv2): Conv1d(64, 64, kernel_size=(1,), stride=(2,))\n",
      "      )\n",
      "    )\n",
      "  )\n",
      "  (dropout): Dropout(p=0.5, inplace=False)\n",
      "  (fc): Linear(in_features=320, out_features=1, bias=True)\n",
      "  (criterion): SmoothL1Loss()\n",
      ")\n",
      "ARemNet(\n",
      "  (conv1d): Conv1d(2, 64, kernel_size=(9,), stride=(1,), padding=(4,))\n",
      "  (rrms): ModuleList(\n",
      "    (0-1): 2 x ResidualReductionModule(\n",
      "      (pos_encoding): LearnablePositionalEncoding(\n",
      "        (dropout): Dropout(p=0.1, inplace=False)\n",
      "      )\n",
      "      (self_attention): SelfAttentionBlock(\n",
      "        (attention): MultiheadAttention(\n",
      "          (out_proj): NonDynamicallyQuantizableLinear(in_features=64, out_features=64, bias=True)\n",
      "        )\n",
      "        (norm): LayerNorm((64,), eps=1e-05, elementwise_affine=True)\n",
      "      )\n",
      "      (residual_unit): ResidualUnit(\n",
      "        (conv): Conv1d(64, 64, kernel_size=(3,), stride=(1,), padding=(1,))\n",
      "        (se_block): SEBlock(\n",
      "          (squeeze): AdaptiveAvgPool1d(output_size=1)\n",
      "          (fc1): Linear(in_features=64, out_features=8, bias=True)\n",
      "          (fc2): Linear(in_features=8, out_features=64, bias=True)\n",
      "        )\n",
      "      )\n",
      "      (reduction_block): ReductionBlock(\n",
      "        (conv1): Conv1d(64, 64, kernel_size=(3,), stride=(2,), padding=(1,))\n",
      "        (conv2): Conv1d(64, 64, kernel_size=(1,), stride=(2,))\n",
      "      )\n",
      "    )\n",
      "    (2-4): 3 x ResidualReductionModule(\n",
      "      (residual_unit): ResidualUnit(\n",
      "        (conv): Conv1d(64, 64, kernel_size=(3,), stride=(1,), padding=(1,))\n",
      "        (se_block): SEBlock(\n",
      "          (squeeze): AdaptiveAvgPool1d(output_size=1)\n",
      "          (fc1): Linear(in_features=64, out_features=8, bias=True)\n",
      "          (fc2): Linear(in_features=8, out_features=64, bias=True)\n",
      "        )\n",
      "      )\n",
      "      (reduction_block): ReductionBlock(\n",
      "        (conv1): Conv1d(64, 64, kernel_size=(3,), stride=(2,), padding=(1,))\n",
      "        (conv2): Conv1d(64, 64, kernel_size=(1,), stride=(2,))\n",
      "      )\n",
      "    )\n",
      "  )\n",
      "  (dropout): Dropout(p=0.5, inplace=False)\n",
      "  (fc): Linear(in_features=320, out_features=1, bias=True)\n",
      "  (criterion): SmoothL1Loss()\n",
      ")\n"
     ]
    }
   ],
   "source": [
    "remnet_path = 'pretrained/remnet.ckpt'\n",
    "aremnet_path = 'pretrained/aremnet.ckpt'\n",
    "\n",
    "model_no_att = ARemNet.load_from_checkpoint(remnet_path)\n",
    "model_att = ARemNet.load_from_checkpoint(aremnet_path)\n",
    "\n",
    "print(model_no_att)\n",
    "print(model_att)"
   ]
  },
  {
   "cell_type": "code",
   "execution_count": null,
   "id": "69c16f05",
   "metadata": {},
   "outputs": [
    {
     "name": "stdout",
     "output_type": "stream",
     "text": [
      "Trainable Parameters (No Attention): 151337\n",
      "Trainable Parameters (With Attention): 200425\n"
     ]
    }
   ],
   "source": [
    "print(f\"Trainable Parameters (No Attention): {sum(p.numel() for p in model_no_att.parameters() if p.requires_grad)}\")\n",
    "print(f\"Trainable Parameters (With Attention): {sum(p.numel() for p in model_att.parameters() if p.requires_grad)}\")"
   ]
  },
  {
   "cell_type": "code",
   "execution_count": 13,
   "id": "5ae65844",
   "metadata": {},
   "outputs": [
    {
     "name": "stdout",
     "output_type": "stream",
     "text": [
      "Evaluation\n"
     ]
    }
   ],
   "source": [
    "model_no_att.eval()\n",
    "model_att.eval()\n",
    "model_no_att.freeze()\n",
    "model_att.freeze()\n",
    "model_no_att.to('cuda')\n",
    "model_att.to('cuda')\n",
    "\n",
    "print(\"Evaluation\")"
   ]
  },
  {
   "cell_type": "markdown",
   "id": "b80a3367",
   "metadata": {},
   "source": [
    "### Evaluate"
   ]
  },
  {
   "cell_type": "markdown",
   "id": "ea56c37e",
   "metadata": {},
   "source": [
    "#### Ablation study and error analysis"
   ]
  },
  {
   "cell_type": "code",
   "execution_count": null,
   "id": "9a02d8c6",
   "metadata": {},
   "outputs": [
    {
     "name": "stdout",
     "output_type": "stream",
     "text": [
      "Results for model without attention:\n",
      "overall stats:\n",
      "  mean_before: 13.96 cm\n",
      "  std_before: 19.38 cm\n",
      "  mae_before: 15.25 cm\n",
      "  mean_after: 0.45 cm\n",
      "  std_after: 9.53 cm\n",
      "  mae_after: 5.12 cm\n",
      "LOS stats:\n",
      "  mean_before: 3.72 cm\n",
      "  std_before: 7.84 cm\n",
      "  mae_before: 5.64 cm\n",
      "  mean_after: -0.74 cm\n",
      "  std_after: 4.12 cm\n",
      "  mae_after: 2.42 cm\n",
      "NLOS stats:\n",
      "  mean_before: 18.34 cm\n",
      "  std_before: 21.12 cm\n",
      "  mae_before: 19.35 cm\n",
      "  mean_after: 0.96 cm\n",
      "  std_after: 11.02 cm\n",
      "  mae_after: 6.28 cm\n",
      "Results for model with attention:\n",
      "overall stats:\n",
      "  mean_before: 13.96 cm\n",
      "  std_before: 19.38 cm\n",
      "  mae_before: 15.25 cm\n",
      "  mean_after: 0.51 cm\n",
      "  std_after: 8.50 cm\n",
      "  mae_after: 4.54 cm\n",
      "LOS stats:\n",
      "  mean_before: 3.72 cm\n",
      "  std_before: 7.84 cm\n",
      "  mae_before: 5.64 cm\n",
      "  mean_after: -0.22 cm\n",
      "  std_after: 3.77 cm\n",
      "  mae_after: 2.19 cm\n",
      "NLOS stats:\n",
      "  mean_before: 18.34 cm\n",
      "  std_before: 21.12 cm\n",
      "  mae_before: 19.35 cm\n",
      "  mean_after: 0.82 cm\n",
      "  std_after: 9.83 cm\n",
      "  mae_after: 5.55 cm\n"
     ]
    }
   ],
   "source": [
    "def evaluate_model(model, dataloader):\n",
    "    model.eval()\n",
    "    device = \"cuda\" if torch.cuda.is_available() else \"cpu\"\n",
    "    model.to(device)\n",
    "\n",
    "    all_preds = []\n",
    "    all_targets = []\n",
    "    all_labels = []\n",
    "\n",
    "    with torch.no_grad():\n",
    "        for batch in dataloader:\n",
    "            x, y_true, l = batch\n",
    "            x = x.to(device)\n",
    "            y_true = y_true.to(device).float()\n",
    "            l = l.to(device).float()\n",
    "\n",
    "            y_pred = model(x).squeeze()\n",
    "            all_preds.append(y_pred)\n",
    "            all_targets.append(y_true)\n",
    "            all_labels.append(l)\n",
    "\n",
    "    y_preds = torch.cat(all_preds).cpu().numpy()\n",
    "    y_true = torch.cat(all_targets).cpu().numpy()\n",
    "    labels = torch.cat(all_labels).cpu().numpy()\n",
    "\n",
    "    residuals = y_true - y_preds\n",
    "    abs_errors = np.abs(y_true)\n",
    "    abs_residuals = np.abs(residuals)\n",
    "\n",
    "    def compute_stats(mask):\n",
    "        return {\n",
    "            'mean_before': np.mean(y_true[mask]),\n",
    "            'std_before': np.std(y_true[mask]),\n",
    "            'mae_before': np.mean(abs_errors[mask]),\n",
    "            'mean_after': np.mean(residuals[mask]),\n",
    "            'std_after': np.std(residuals[mask]),\n",
    "            'mae_after': np.mean(abs_residuals[mask]),\n",
    "        }\n",
    "\n",
    "    overall = compute_stats(np.ones_like(labels, dtype=bool))\n",
    "    los = compute_stats(labels == 1)\n",
    "    nlos = compute_stats(labels == 0)\n",
    "\n",
    "    return {\n",
    "        'overall': overall,\n",
    "        'LOS': los,\n",
    "        'NLOS': nlos,\n",
    "        'predictions': y_preds,\n",
    "        'true_errors': y_true,\n",
    "        'residual_errors': residuals,\n",
    "        'labels': labels\n",
    "    }\n",
    "\n",
    "def print_results(results):\n",
    "    for k, v in results.items():\n",
    "        if k in ['overall', 'LOS', 'NLOS']:\n",
    "            print(f\"{k} stats:\")\n",
    "            for metric, val in v.items():\n",
    "                print(f\"  {metric}: {val:.2f} cm\")\n",
    "\n",
    "data_module.setup(stage='test')\n",
    "\n",
    "test_loader = data_module.test_dataloader()\n",
    "\n",
    "results_no_att = evaluate_model(model_no_att, test_loader)\n",
    "results_att = evaluate_model(model_att, test_loader)\n",
    "\n",
    "print(\"Results for model without attention:\")\n",
    "print_results(results_no_att)\n",
    "print(\"Results for model with attention:\")\n",
    "print_results(results_att)"
   ]
  },
  {
   "cell_type": "code",
   "execution_count": 17,
   "id": "1a595062",
   "metadata": {},
   "outputs": [
    {
     "data": {
      "image/png": "[encoded data removed]",
      "text/plain": [
       "<Figure size 1000x500 with 1 Axes>"
      ]
     },
     "metadata": {},
     "output_type": "display_data"
    },
    {
     "data": {
      "image/png": "[encoded data removed]",
      "text/plain": [
       "<Figure size 1000x500 with 1 Axes>"
      ]
     },
     "metadata": {},
     "output_type": "display_data"
    }
   ],
   "source": [
    "import matplotlib.pyplot as plt\n",
    "import seaborn as sns\n",
    "\n",
    "def plot_error_distribution(errors_before, errors_after, predictions, labels):\n",
    "    plt.figure(figsize=(10, 5))\n",
    "    sns.histplot(errors_before, bins=150, label='Before', stat='density', alpha=0.75, edgecolor=None)\n",
    "    sns.histplot(predictions, bins=150,  label='Predictions', stat='density', alpha=0.75, edgecolor=None)\n",
    "    sns.histplot(errors_after, bins=200,   label='After', stat='density', alpha=0.75, edgecolor=None)\n",
    "    plt.xlabel('Error (cm)')\n",
    "    plt.ylabel('Density')\n",
    "    plt.legend(loc='upper right')\n",
    "    plt.xlim(-50, 150)\n",
    "    plt.grid()\n",
    "    plt.ticklabel_format(style='sci', axis='y', scilimits=(0, 0))\n",
    "\n",
    "    plt.savefig('error_distribution_mitigated.pdf', bbox_inches='tight')\n",
    "\n",
    "\n",
    "plot_error_distribution(\n",
    "    results_no_att['true_errors'],\n",
    "    results_no_att['residual_errors'],\n",
    "    results_no_att['predictions'],\n",
    "    results_no_att['labels']\n",
    ")\n",
    "plot_error_distribution(\n",
    "    results_att['true_errors'],\n",
    "    results_att['residual_errors'],\n",
    "    results_att['predictions'],\n",
    "    results_att['labels']\n",
    ")"
   ]
  },
  {
   "cell_type": "markdown",
   "id": "2a592fb9",
   "metadata": {},
   "source": [
    "#### Inference time and FLOPs"
   ]
  },
  {
   "cell_type": "code",
   "execution_count": 18,
   "id": "9987719f",
   "metadata": {},
   "outputs": [
    {
     "name": "stderr",
     "output_type": "stream",
     "text": [
      "Unsupported operator aten::add encountered 9 time(s)\n",
      "Unsupported operator aten::div encountered 2 time(s)\n",
      "Unsupported operator aten::unflatten encountered 2 time(s)\n",
      "Unsupported operator aten::mul encountered 15 time(s)\n",
      "Unsupported operator aten::softmax encountered 2 time(s)\n",
      "Unsupported operator aten::adaptive_avg_pool1d encountered 5 time(s)\n",
      "Unsupported operator aten::sigmoid encountered 5 time(s)\n",
      "Unsupported operator aten::add_ encountered 5 time(s)\n",
      "The following submodules of the model were never called during the trace of the graph. They may be unused, or they were accessed by direct calls to .forward() or via other python methods. In the latter case they will have zeros for statistics, though their statistics will still contribute to their parent calling module.\n",
      "criterion, rrms.0.self_attention.attention.out_proj, rrms.1.self_attention.attention.out_proj\n"
     ]
    },
    {
     "name": "stdout",
     "output_type": "stream",
     "text": [
      "11.695808 MFLOPs\n",
      "| name                      | #elements or shape   |\n",
      "|:--------------------------|:---------------------|\n",
      "| model                     | 0.2M                 |\n",
      "|  conv1d                   |  1.2K                |\n",
      "|   conv1d.weight           |   (64, 2, 9)         |\n",
      "|   conv1d.bias             |   (64,)              |\n",
      "|  rrms                     |  0.2M                |\n",
      "|   rrms.0                  |   57.1K              |\n",
      "|    rrms.0.pos_encoding    |    10.4K             |\n",
      "|    rrms.0.self_attention  |    16.8K             |\n",
      "|    rrms.0.residual_unit   |    13.4K             |\n",
      "|    rrms.0.reduction_block |    16.5K             |\n",
      "|   rrms.1                  |   51.9K              |\n",
      "|    rrms.1.pos_encoding    |    5.2K              |\n",
      "|    rrms.1.self_attention  |    16.8K             |\n",
      "|    rrms.1.residual_unit   |    13.4K             |\n",
      "|    rrms.1.reduction_block |    16.5K             |\n",
      "|   rrms.2                  |   30.0K              |\n",
      "|    rrms.2.residual_unit   |    13.4K             |\n",
      "|    rrms.2.reduction_block |    16.5K             |\n",
      "|   rrms.3                  |   30.0K              |\n",
      "|    rrms.3.residual_unit   |    13.4K             |\n",
      "|    rrms.3.reduction_block |    16.5K             |\n",
      "|   rrms.4                  |   30.0K              |\n",
      "|    rrms.4.residual_unit   |    13.4K             |\n",
      "|    rrms.4.reduction_block |    16.5K             |\n",
      "|  fc                       |  0.3K                |\n",
      "|   fc.weight               |   (1, 320)           |\n",
      "|   fc.bias                 |   (1,)               |\n"
     ]
    }
   ],
   "source": [
    "from fvcore.nn import FlopCountAnalysis, parameter_count_table\n",
    "\n",
    "input = torch.randn(1, 133, 2).cuda()\n",
    "model.eval().cuda()\n",
    "\n",
    "flops = FlopCountAnalysis(model, input)\n",
    "print(flops.total() / 1e6, \"MFLOPs\")\n",
    "print(parameter_count_table(model))"
   ]
  },
  {
   "cell_type": "code",
   "execution_count": null,
   "id": "655e79b4",
   "metadata": {},
   "outputs": [
    {
     "name": "stdout",
     "output_type": "stream",
     "text": [
      "Inference Time: 2.926 ± 0.032 ms\n"
     ]
    }
   ],
   "source": [
    "import time\n",
    "\n",
    "model.eval().cuda()\n",
    "dummy_input = torch.randn(1, 133, 2).cuda()\n",
    "\n",
    "for _ in range(100):\n",
    "    _ = model(dummy_input)\n",
    "\n",
    "times = []\n",
    "with torch.no_grad():\n",
    "    for _ in range(1000):\n",
    "        start = time.time()\n",
    "        _ = model(dummy_input)\n",
    "        torch.cuda.synchronize()\n",
    "        end = time.time()\n",
    "        times.append((end - start) * 1000)  # ms\n",
    "\n",
    "print(f\"Inference Time: {np.mean(times):.3f} ± {np.std(times):.3f} ms\")"
   ]
  }
 ],
 "metadata": {
  "kernelspec": {
   "display_name": "uwb_new",
   "language": "python",
   "name": "python3"
  },
  "language_info": {
   "codemirror_mode": {
    "name": "ipython",
    "version": 3
   },
   "file_extension": ".py",
   "mimetype": "text/x-python",
   "name": "python",
   "nbconvert_exporter": "python",
   "pygments_lexer": "ipython3",
   "version": "3.10.16"
  }
 },
 "nbformat": 4,
 "nbformat_minor": 5
}
